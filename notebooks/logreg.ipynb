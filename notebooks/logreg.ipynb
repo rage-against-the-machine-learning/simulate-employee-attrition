{
 "cells": [
  {
   "cell_type": "code",
   "execution_count": 1,
   "id": "0335fcfd",
   "metadata": {},
   "outputs": [],
   "source": [
    "import sys"
   ]
  },
  {
   "cell_type": "code",
   "execution_count": 3,
   "id": "2416cd99",
   "metadata": {},
   "outputs": [],
   "source": [
    "import numpy as np\n",
    "import pandas as pd"
   ]
  },
  {
   "cell_type": "code",
   "execution_count": 6,
   "id": "19b28050",
   "metadata": {},
   "outputs": [],
   "source": [
    "sys.path.append('../src/')\n",
    "import helper\n",
    "import logreg"
   ]
  },
  {
   "cell_type": "code",
   "execution_count": 7,
   "id": "f472f6dc",
   "metadata": {},
   "outputs": [],
   "source": [
    "raw_data_path = '../data/raw/WA_Fn-UseC_-HR-Employee-Attrition.csv'"
   ]
  },
  {
   "cell_type": "code",
   "execution_count": 59,
   "id": "8ad78991",
   "metadata": {},
   "outputs": [
    {
     "name": "stdout",
     "output_type": "stream",
     "text": [
      "The autoreload extension is already loaded. To reload it, use:\n",
      "  %reload_ext autoreload\n"
     ]
    }
   ],
   "source": [
    "%load_ext autoreload"
   ]
  },
  {
   "cell_type": "code",
   "execution_count": 68,
   "id": "a97b762b",
   "metadata": {},
   "outputs": [],
   "source": [
    "%autoreload"
   ]
  },
  {
   "cell_type": "code",
   "execution_count": 69,
   "id": "da3320fb",
   "metadata": {},
   "outputs": [],
   "source": [
    "ibm = helper.IBMData(raw_data_path, verbose=True)"
   ]
  },
  {
   "cell_type": "code",
   "execution_count": 70,
   "id": "5646e867",
   "metadata": {
    "scrolled": true
   },
   "outputs": [
    {
     "name": "stdout",
     "output_type": "stream",
     "text": [
      "\n",
      "Split X and y...\n",
      "self.X.shape (1470, 34)\n",
      "self.y.shape (1470,)\n",
      "\n",
      "Train Test Split...\n",
      "X_train.shape (1102, 34)\n",
      "X_test.shape (368, 34)\n",
      "y_train.shape (1102,)\n",
      "y_test.shape (368,)\n"
     ]
    }
   ],
   "source": [
    "X_train, X_test, y_train, y_test = ibm.train_test_split()"
   ]
  },
  {
   "cell_type": "code",
   "execution_count": 72,
   "id": "655c4e18",
   "metadata": {},
   "outputs": [
    {
     "data": {
      "text/plain": [
       "pandas.core.frame.DataFrame"
      ]
     },
     "execution_count": 72,
     "metadata": {},
     "output_type": "execute_result"
    }
   ],
   "source": [
    "type(ibm.X_train)"
   ]
  },
  {
   "cell_type": "code",
   "execution_count": 78,
   "id": "28b63100",
   "metadata": {},
   "outputs": [],
   "source": [
    "from sklearn.preprocessing import LabelBinarizer, LabelEncoder"
   ]
  },
  {
   "cell_type": "code",
   "execution_count": null,
   "id": "bc474316",
   "metadata": {},
   "outputs": [],
   "source": [
    "class PreProcess:\n",
    "    \n",
    "    def __init__(self, X_data: pd.DataFrame, y_data: pd.DataFrame):\n",
    "        self.X = X_data\n",
    "        self.y = y_data\n",
    "        self.pp_X = X_data.copy()\n",
    "        \n",
    "    def label_encode(self):\n",
    "        categorical_ojbect = ['BusinessTravel', 'Department', 'EducationField', 'JobRole', 'MaritalStatus']\n",
    "        categorial_numeric = ['Education', 'EnvironmentSatisfaction', 'JobInvolvement', 'JobLevel', \n",
    "                              'JobSatisfaction', 'RelationshipSatisfaction', 'StockOptionLevel', 'WorkLifeBalance']\n",
    "        categorical_columns = categorical_object + categorical_numeric\n",
    "        assert all(col in self.data.columns for col in categorical_columns)\n",
    "\n",
    "        encoders = {}\n",
    "        for c in categorical_columns:\n",
    "            encoders[c] = LabelEncoder()\n",
    "            encoders[c].fit(self.X[c])\n",
    "            self.pp_X[c] = encoders[c].transform(self.X[c])\n",
    "            \n",
    "        # need this in order to inverse transform back to the categorical labels\n",
    "        self.label_encoders = encoders\n",
    "            \n",
    "    def binary_encode(self):\n",
    "        binarizable_columns = ['Gender', 'Over18', 'OverTime']\n",
    "        assert all(col in self.data.columns for col in binarizable_columns)\n",
    "        \n",
    "        encoders = {}\n",
    "        for b in binarizable_columns:\n",
    "            encoders[b] = LabelBinarizer()\n",
    "            encoders[b].fit(self.X[b])\n",
    "            self.pp_X[b] = encoders[b].transform(self.X[b])\n",
    "            \n",
    "        # need this in order to inverse transform back to the binary category labels\n",
    "        self.binary_encoders = encoders\n",
    "        "
   ]
  }
 ],
 "metadata": {
  "kernelspec": {
   "display_name": "sim-proj",
   "language": "python",
   "name": "sim-proj"
  },
  "language_info": {
   "codemirror_mode": {
    "name": "ipython",
    "version": 3
   },
   "file_extension": ".py",
   "mimetype": "text/x-python",
   "name": "python",
   "nbconvert_exporter": "python",
   "pygments_lexer": "ipython3",
   "version": "3.8.12"
  }
 },
 "nbformat": 4,
 "nbformat_minor": 5
}
