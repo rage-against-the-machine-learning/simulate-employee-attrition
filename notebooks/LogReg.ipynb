{
 "cells": [
  {
   "cell_type": "code",
   "execution_count": 1,
   "id": "0111e2bf",
   "metadata": {},
   "outputs": [],
   "source": [
    "from datetime import datetime as dt\n",
    "import sys\n",
    "import warnings\n",
    "warnings.filterwarnings('ignore')"
   ]
  },
  {
   "cell_type": "code",
   "execution_count": 29,
   "id": "1538013f",
   "metadata": {},
   "outputs": [],
   "source": [
    "from icecream import ic\n",
    "import matplotlib.pyplot as plt\n",
    "import numpy as np\n",
    "import pandas as pd\n",
    "from sklearn.linear_model import LinearRegression, LogisticRegression\n",
    "from sklearn.metrics import confusion_matrix, PrecisionRecallDisplay\n",
    "from sklearn.model_selection import train_test_split\n",
    "from sklearn.preprocessing import StandardScaler\n",
    "\n",
    "from pprint import pprint"
   ]
  },
  {
   "cell_type": "code",
   "execution_count": 3,
   "id": "5fcc806e",
   "metadata": {},
   "outputs": [],
   "source": [
    "sys.path.append('../src/')\n",
    "import helper\n",
    "import logreg"
   ]
  },
  {
   "cell_type": "code",
   "execution_count": 4,
   "id": "829d39f8",
   "metadata": {
    "scrolled": true
   },
   "outputs": [
    {
     "data": {
      "text/plain": [
       "'2021-12-05'"
      ]
     },
     "execution_count": 4,
     "metadata": {},
     "output_type": "execute_result"
    }
   ],
   "source": [
    "today = dt.today().isoformat().split(\"T\")[0]\n",
    "today"
   ]
  },
  {
   "cell_type": "code",
   "execution_count": 5,
   "id": "f912e961",
   "metadata": {},
   "outputs": [],
   "source": [
    "datapath = '../data/raw/WA_Fn-UseC_-HR-Employee-Attrition.csv'"
   ]
  },
  {
   "cell_type": "code",
   "execution_count": 6,
   "id": "d1921434",
   "metadata": {},
   "outputs": [],
   "source": [
    "ibm = pd.read_csv(datapath)"
   ]
  },
  {
   "cell_type": "code",
   "execution_count": 7,
   "id": "3b475512",
   "metadata": {},
   "outputs": [
    {
     "name": "stdout",
     "output_type": "stream",
     "text": [
      "\n",
      "Split X and y...\n",
      "self.X.shape (1470, 34)\n",
      "self.y.shape (1470,)\n"
     ]
    }
   ],
   "source": [
    "data_loader = helper.IBMData(datapath, verbose=True)\n",
    "X, y = data_loader.separate_response"
   ]
  },
  {
   "cell_type": "code",
   "execution_count": 8,
   "id": "dd29e023",
   "metadata": {},
   "outputs": [
    {
     "name": "stdout",
     "output_type": "stream",
     "text": [
      "\n",
      "The following categorical_columns have been label encoded: ['BusinessTravel', 'Department', 'EducationField', 'JobRole', 'MaritalStatus', 'Education', 'EnvironmentSatisfaction', 'JobInvolvement', 'JobLevel', 'JobSatisfaction', 'RelationshipSatisfaction', 'StockOptionLevel', 'WorkLifeBalance']\n",
      "\n",
      "The following categorical_columns have been binarized: ['Gender', 'Over18', 'OverTime']\n"
     ]
    }
   ],
   "source": [
    "data_pp = helper.PreProcess(X, verbose=True)\n",
    "data_pp.preprocess_data()"
   ]
  },
  {
   "cell_type": "code",
   "execution_count": 9,
   "id": "1e510efc",
   "metadata": {},
   "outputs": [
    {
     "data": {
      "text/plain": [
       "(1470, 35)"
      ]
     },
     "execution_count": 9,
     "metadata": {},
     "output_type": "execute_result"
    }
   ],
   "source": [
    "preprocessed_X = data_pp.pp_X\n",
    "\n",
    "preproccessed_X_and_y = pd.concat([preprocessed_X, y], axis=1)\n",
    "preproccessed_X_and_y.shape"
   ]
  },
  {
   "cell_type": "code",
   "execution_count": 10,
   "id": "3968480e",
   "metadata": {},
   "outputs": [],
   "source": [
    "std_sc = StandardScaler()"
   ]
  },
  {
   "cell_type": "code",
   "execution_count": 11,
   "id": "145f9241",
   "metadata": {},
   "outputs": [],
   "source": [
    "pp_stdsc_X = std_sc.fit_transform(preprocessed_X)\n",
    "pp_stdsc_X_df = pd.DataFrame(pp_stdsc_X, columns=preprocessed_X.columns)"
   ]
  },
  {
   "cell_type": "code",
   "execution_count": 12,
   "id": "82031d91",
   "metadata": {},
   "outputs": [],
   "source": [
    "response_col = 'Attrition'\n",
    "\n",
    "cat_num_cols = [\"Education\", \"EnvironmentSatisfaction\", \"JobInvolvement\",\n",
    "                \"JobLevel\", \"JobSatisfaction\", \"NumCompaniesWorked\", \"PerformanceRating\", \n",
    "                \"RelationshipSatisfaction\", \"StockOptionLevel\", \"TrainingTimesLastYear\", \"WorkLifeBalance\"]\n",
    "\n",
    "numeric_cols = [col for col in ibm.columns if (type(ibm.loc[0, col]) != str) \n",
    "                and (col not in cat_num_cols) \n",
    "                and (col != response_col)]\n",
    "\n",
    "categoricals = [col for col in ibm.columns if (col not in numeric_cols) and \n",
    "                (col not in cat_num_cols) and \n",
    "                (col != response_col)]"
   ]
  },
  {
   "cell_type": "markdown",
   "id": "7e6e4d9f",
   "metadata": {},
   "source": [
    "### Train Test Split"
   ]
  },
  {
   "cell_type": "code",
   "execution_count": 13,
   "id": "bb5ca075",
   "metadata": {
    "scrolled": true
   },
   "outputs": [
    {
     "data": {
      "text/plain": [
       "[1, 0, 1, 0, 0]"
      ]
     },
     "execution_count": 13,
     "metadata": {},
     "output_type": "execute_result"
    }
   ],
   "source": [
    "preprocessed_y = [1 if r == 'Yes' else 0 for r in y]\n",
    "preprocessed_y[:5]"
   ]
  },
  {
   "cell_type": "code",
   "execution_count": 14,
   "id": "f0af7586",
   "metadata": {
    "scrolled": true
   },
   "outputs": [
    {
     "name": "stdout",
     "output_type": "stream",
     "text": [
      "0    Yes\n",
      "1     No\n",
      "2    Yes\n",
      "3     No\n",
      "4     No\n",
      "Name: Attrition, dtype: object\n"
     ]
    }
   ],
   "source": [
    "print(y[:5])"
   ]
  },
  {
   "cell_type": "code",
   "execution_count": 15,
   "id": "03043b0b",
   "metadata": {},
   "outputs": [],
   "source": [
    "X_train, X_test, y_train, y_test = train_test_split(preprocessed_X, preprocessed_y, test_size=0.25)"
   ]
  },
  {
   "cell_type": "markdown",
   "id": "32f9282e",
   "metadata": {},
   "source": [
    "#### SMOTE Rebalance the Training Data ONLY"
   ]
  },
  {
   "cell_type": "code",
   "execution_count": 16,
   "id": "46abdc1e",
   "metadata": {},
   "outputs": [],
   "source": [
    "from imblearn.over_sampling import SMOTE"
   ]
  },
  {
   "cell_type": "code",
   "execution_count": 17,
   "id": "b2c7979f",
   "metadata": {},
   "outputs": [],
   "source": [
    "sm = SMOTE(random_state=42)\n",
    "X_res, y_res = sm.fit_resample(X_train, y_train)"
   ]
  },
  {
   "cell_type": "code",
   "execution_count": 18,
   "id": "353a86c6",
   "metadata": {
    "scrolled": false
   },
   "outputs": [
    {
     "name": "stderr",
     "output_type": "stream",
     "text": [
      "ic| X_res.shape: (1848, 34)\n",
      "ic| len(y_res): 1848\n"
     ]
    },
    {
     "data": {
      "text/plain": [
       "1848"
      ]
     },
     "execution_count": 18,
     "metadata": {},
     "output_type": "execute_result"
    }
   ],
   "source": [
    "ic(X_res.shape)\n",
    "ic(len(y_res))"
   ]
  },
  {
   "cell_type": "code",
   "execution_count": 19,
   "id": "6a8c5ac3",
   "metadata": {},
   "outputs": [
    {
     "data": {
      "text/plain": [
       "0    924\n",
       "1    924\n",
       "dtype: int64"
      ]
     },
     "execution_count": 19,
     "metadata": {},
     "output_type": "execute_result"
    }
   ],
   "source": [
    "pd.Series(y_res).value_counts()"
   ]
  },
  {
   "cell_type": "markdown",
   "id": "a9020e63",
   "metadata": {},
   "source": [
    "### LogisticRegression"
   ]
  },
  {
   "cell_type": "code",
   "execution_count": 20,
   "id": "120173be",
   "metadata": {},
   "outputs": [],
   "source": [
    "lr = logreg.LogisticRegress(X_res, y_res, verbose=True)"
   ]
  },
  {
   "cell_type": "code",
   "execution_count": 21,
   "id": "1ad078b5",
   "metadata": {
    "scrolled": true
   },
   "outputs": [
    {
     "name": "stdout",
     "output_type": "stream",
     "text": [
      "\n",
      "Generating predictions...\n",
      "\n",
      "Logistic Regression parameters: {'penalty': 'none', 'random_state': 42, 'verbose': 1, 'n_jobs': -1}...\n"
     ]
    },
    {
     "name": "stderr",
     "output_type": "stream",
     "text": [
      "[Parallel(n_jobs=-1)]: Using backend LokyBackend with 8 concurrent workers.\n"
     ]
    },
    {
     "name": "stdout",
     "output_type": "stream",
     "text": [
      "RUNNING THE L-BFGS-B CODE\n",
      "\n",
      "           * * *\n",
      "\n",
      "Machine precision = 2.220D-16\n",
      " N =           35     M =           10\n",
      "\n",
      "At X0         0 variables are exactly at the bounds\n",
      "\n",
      "At iterate    0    f=  1.28094D+03    |proj g|=  9.71254D+05\n",
      "\n",
      "At iterate   50    f=  1.16974D+03    |proj g|=  3.29666D+04\n",
      "\n",
      "At iterate  100    f=  1.13867D+03    |proj g|=  2.11574D+04\n",
      "\n",
      "           * * *\n",
      "\n",
      "Tit   = total number of iterations\n",
      "Tnf   = total number of function evaluations\n",
      "Tnint = total number of segments explored during Cauchy searches\n",
      "Skip  = number of BFGS updates skipped\n",
      "Nact  = number of active bounds at final generalized Cauchy point\n",
      "Projg = norm of the final projected gradient\n",
      "F     = final function value\n",
      "\n",
      "           * * *\n",
      "\n",
      "   N    Tit     Tnf  Tnint  Skip  Nact     Projg        F\n",
      "   35    100    118      1     0     0   2.116D+04   1.139D+03\n",
      "  F =   1138.6650449204390     \n",
      "\n",
      "STOP: TOTAL NO. of ITERATIONS REACHED LIMIT                 \n",
      "\n",
      "Logistic Regression fitted on X, and y...\n",
      "\n",
      "y_pred shape: (368,), y_proba shape: (368, 2)\n"
     ]
    },
    {
     "name": "stderr",
     "output_type": "stream",
     "text": [
      " This problem is unconstrained.\n",
      "[Parallel(n_jobs=-1)]: Done   1 out of   1 | elapsed:    1.2s finished\n"
     ]
    }
   ],
   "source": [
    "y_test_pred = lr.predict(X_test)"
   ]
  },
  {
   "cell_type": "code",
   "execution_count": 22,
   "id": "52b034fb",
   "metadata": {
    "scrolled": true
   },
   "outputs": [
    {
     "name": "stdout",
     "output_type": "stream",
     "text": [
      "\n",
      "Generating predictions...\n",
      "\n",
      "Logistic Regression parameters: {'penalty': 'none', 'random_state': 42, 'verbose': 1, 'n_jobs': -1}...\n"
     ]
    },
    {
     "name": "stderr",
     "output_type": "stream",
     "text": [
      "[Parallel(n_jobs=-1)]: Using backend LokyBackend with 8 concurrent workers.\n"
     ]
    },
    {
     "name": "stdout",
     "output_type": "stream",
     "text": [
      "RUNNING THE L-BFGS-B CODE\n",
      "\n",
      "           * * *\n",
      "\n",
      "Machine precision = 2.220D-16\n",
      " N =           35     M =           10\n",
      "\n",
      "At X0         0 variables are exactly at the bounds\n",
      "\n",
      "At iterate    0    f=  1.28094D+03    |proj g|=  9.71254D+05\n",
      "\n",
      "At iterate   50    f=  1.16974D+03    |proj g|=  3.29666D+04\n",
      "\n",
      "At iterate  100    f=  1.13867D+03    |proj g|=  2.11574D+04\n",
      "\n",
      "           * * *\n",
      "\n",
      "Tit   = total number of iterations\n",
      "Tnf   = total number of function evaluations\n",
      "Tnint = total number of segments explored during Cauchy searches\n",
      "Skip  = number of BFGS updates skipped\n",
      "Nact  = number of active bounds at final generalized Cauchy point\n",
      "Projg = norm of the final projected gradient\n",
      "F     = final function value\n",
      "\n",
      "           * * *\n",
      "\n",
      "   N    Tit     Tnf  Tnint  Skip  Nact     Projg        F\n",
      "   35    100    118      1     0     0   2.116D+04   1.139D+03\n",
      "  F =   1138.6650449204390     \n",
      "\n",
      "STOP: TOTAL NO. of ITERATIONS REACHED LIMIT                 \n",
      "\n",
      "Logistic Regression fitted on X, and y...\n",
      "\n",
      "y_pred shape: (1102,), y_proba shape: (1102, 2)\n"
     ]
    },
    {
     "name": "stderr",
     "output_type": "stream",
     "text": [
      " This problem is unconstrained.\n",
      "[Parallel(n_jobs=-1)]: Done   1 out of   1 | elapsed:    0.5s finished\n"
     ]
    }
   ],
   "source": [
    "y_train_pred = lr.predict(X_train)"
   ]
  },
  {
   "cell_type": "code",
   "execution_count": 23,
   "id": "ec2e4b89",
   "metadata": {
    "scrolled": false
   },
   "outputs": [
    {
     "data": {
      "text/html": [
       "<div>\n",
       "<style scoped>\n",
       "    .dataframe tbody tr th:only-of-type {\n",
       "        vertical-align: middle;\n",
       "    }\n",
       "\n",
       "    .dataframe tbody tr th {\n",
       "        vertical-align: top;\n",
       "    }\n",
       "\n",
       "    .dataframe thead th {\n",
       "        text-align: right;\n",
       "    }\n",
       "</style>\n",
       "<table border=\"1\" class=\"dataframe\">\n",
       "  <thead>\n",
       "    <tr style=\"text-align: right;\">\n",
       "      <th></th>\n",
       "      <th>predicted No Attrition</th>\n",
       "      <th>predicted Attrition</th>\n",
       "    </tr>\n",
       "  </thead>\n",
       "  <tbody>\n",
       "    <tr>\n",
       "      <th>actual No Attrition</th>\n",
       "      <td>203</td>\n",
       "      <td>106</td>\n",
       "    </tr>\n",
       "    <tr>\n",
       "      <th>actual Attrition</th>\n",
       "      <td>24</td>\n",
       "      <td>35</td>\n",
       "    </tr>\n",
       "  </tbody>\n",
       "</table>\n",
       "</div>"
      ],
      "text/plain": [
       "                     predicted No Attrition  predicted Attrition\n",
       "actual No Attrition                     203                  106\n",
       "actual Attrition                         24                   35"
      ]
     },
     "execution_count": 23,
     "metadata": {},
     "output_type": "execute_result"
    }
   ],
   "source": [
    "conf_mat = pd.DataFrame(confusion_matrix(y_test, y_test_pred[0]), \n",
    "                        columns=['predicted No Attrition', 'predicted Attrition'],\n",
    "                        index=['actual No Attrition', 'actual Attrition'])\n",
    "\n",
    "conf_mat"
   ]
  },
  {
   "cell_type": "code",
   "execution_count": 24,
   "id": "6a792843",
   "metadata": {},
   "outputs": [],
   "source": [
    "from sklearn.metrics import accuracy_score, precision_score, recall_score"
   ]
  },
  {
   "cell_type": "code",
   "execution_count": 25,
   "id": "8ced59d9",
   "metadata": {
    "scrolled": true
   },
   "outputs": [
    {
     "data": {
      "text/plain": [
       "0.6467391304347826"
      ]
     },
     "execution_count": 25,
     "metadata": {},
     "output_type": "execute_result"
    }
   ],
   "source": [
    "accuracy_score(y_test, y_test_pred[0])"
   ]
  },
  {
   "cell_type": "code",
   "execution_count": 26,
   "id": "2681b20f",
   "metadata": {
    "scrolled": false
   },
   "outputs": [
    {
     "data": {
      "text/plain": [
       "0.24822695035460993"
      ]
     },
     "execution_count": 26,
     "metadata": {},
     "output_type": "execute_result"
    }
   ],
   "source": [
    "precision_score(y_test, y_test_pred[0])"
   ]
  },
  {
   "cell_type": "code",
   "execution_count": 27,
   "id": "b1f2d44a",
   "metadata": {
    "scrolled": false
   },
   "outputs": [
    {
     "data": {
      "text/plain": [
       "0.5932203389830508"
      ]
     },
     "execution_count": 27,
     "metadata": {},
     "output_type": "execute_result"
    }
   ],
   "source": [
    "recall_score(y_test, y_test_pred[0])"
   ]
  },
  {
   "cell_type": "code",
   "execution_count": 31,
   "id": "87a14c29",
   "metadata": {},
   "outputs": [
    {
     "data": {
      "text/plain": [
       "<Figure size 1080x504 with 0 Axes>"
      ]
     },
     "metadata": {},
     "output_type": "display_data"
    },
    {
     "data": {
      "image/png": "[encoded data removed]",
      "text/plain": [
       "<Figure size 432x288 with 1 Axes>"
      ]
     },
     "metadata": {
      "needs_background": "light"
     },
     "output_type": "display_data"
    },
    {
     "name": "stderr",
     "output_type": "stream",
     "text": [
      "/opt/miniconda3/envs/sim-proj/lib/python3.8/site-packages/sklearn/linear_model/_logistic.py:814: ConvergenceWarning: lbfgs failed to converge (status=1):\n",
      "STOP: TOTAL NO. of ITERATIONS REACHED LIMIT.\n",
      "\n",
      "Increase the number of iterations (max_iter) or scale the data as shown in:\n",
      "    https://scikit-learn.org/stable/modules/preprocessing.html\n",
      "Please also refer to the documentation for alternative solver options:\n",
      "    https://scikit-learn.org/stable/modules/linear_model.html#logistic-regression\n",
      "  n_iter_i = _check_optimize_result(\n",
      "/opt/miniconda3/envs/sim-proj/lib/python3.8/site-packages/sklearn/linear_model/_logistic.py:814: ConvergenceWarning: lbfgs failed to converge (status=1):\n",
      "STOP: TOTAL NO. of ITERATIONS REACHED LIMIT.\n",
      "\n",
      "Increase the number of iterations (max_iter) or scale the data as shown in:\n",
      "    https://scikit-learn.org/stable/modules/preprocessing.html\n",
      "Please also refer to the documentation for alternative solver options:\n",
      "    https://scikit-learn.org/stable/modules/linear_model.html#logistic-regression\n",
      "  n_iter_i = _check_optimize_result(\n"
     ]
    }
   ],
   "source": [
    "plt.figure(1, figsize=(15, 7))\n",
    "display = PrecisionRecallDisplay.from_estimator(\n",
    "    lr.lr, X_test, y_test, name=\"LogisticRegression\"\n",
    ")\n",
    "_ = display.ax_.set_title(\"2-class Precision-Recall curve\")\n",
    "plt.show()"
   ]
  },
  {
   "cell_type": "code",
   "execution_count": 38,
   "id": "c8ded543",
   "metadata": {},
   "outputs": [
    {
     "data": {
      "text/plain": [
       "[('StandardHours', 0.04628194474406669),\n",
       " ('DistanceFromHome', 0.02885858812077894),\n",
       " ('YearsSinceLastPromotion', 0.014950316943923157),\n",
       " ('NumCompaniesWorked', 0.005584283925736215),\n",
       " ('OverTime', 0.003893283010697477)]"
      ]
     },
     "execution_count": 38,
     "metadata": {},
     "output_type": "execute_result"
    }
   ],
   "source": [
    "feat_coeffs = list(zip(lr.X.columns, lr.lr.coef_[0]))\n",
    "sorted(feat_coeffs, key=lambda x: x[1], reverse=True)[:5]"
   ]
  }
 ],
 "metadata": {
  "kernelspec": {
   "display_name": "sim-proj",
   "language": "python",
   "name": "sim-proj"
  },
  "language_info": {
   "codemirror_mode": {
    "name": "ipython",
    "version": 3
   },
   "file_extension": ".py",
   "mimetype": "text/x-python",
   "name": "python",
   "nbconvert_exporter": "python",
   "pygments_lexer": "ipython3",
   "version": "3.8.12"
  }
 },
 "nbformat": 4,
 "nbformat_minor": 5
}
